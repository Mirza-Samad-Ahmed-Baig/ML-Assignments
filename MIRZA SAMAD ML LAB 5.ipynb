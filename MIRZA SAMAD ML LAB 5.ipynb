{
 "cells": [
  {
   "cell_type": "markdown",
   "id": "8080a099",
   "metadata": {},
   "source": [
    "# MIRZA SAMAD 1790-2020 \n",
    "# MACHINE LEARNING LAB 5\n",
    "# TEACHER NAME: SIR SHAHID \n",
    "# ----------------------------------------- ML LAB 5 ------------------------------------------------------\n",
    "# ==============================================================="
   ]
  },
  {
   "cell_type": "code",
   "execution_count": 89,
   "id": "53d0e708",
   "metadata": {},
   "outputs": [],
   "source": [
    "import pandas as pd\n",
    "import numpy as np\n",
    "import matplotlib.pyplot as plt\n",
    "import seaborn as sns"
   ]
  },
  {
   "cell_type": "code",
   "execution_count": 90,
   "id": "01a2f5af",
   "metadata": {},
   "outputs": [],
   "source": [
    "df = pd.read_csv('credit_dataset.csv')"
   ]
  },
  {
   "cell_type": "code",
   "execution_count": 91,
   "id": "6ef287cb",
   "metadata": {},
   "outputs": [
    {
     "data": {
      "text/html": [
       "<div>\n",
       "<style scoped>\n",
       "    .dataframe tbody tr th:only-of-type {\n",
       "        vertical-align: middle;\n",
       "    }\n",
       "\n",
       "    .dataframe tbody tr th {\n",
       "        vertical-align: top;\n",
       "    }\n",
       "\n",
       "    .dataframe thead th {\n",
       "        text-align: right;\n",
       "    }\n",
       "</style>\n",
       "<table border=\"1\" class=\"dataframe\">\n",
       "  <thead>\n",
       "    <tr style=\"text-align: right;\">\n",
       "      <th></th>\n",
       "      <th>Unnamed: 0</th>\n",
       "      <th>ID</th>\n",
       "      <th>GENDER</th>\n",
       "      <th>CAR</th>\n",
       "      <th>REALITY</th>\n",
       "      <th>NO_OF_CHILD</th>\n",
       "      <th>INCOME</th>\n",
       "      <th>INCOME_TYPE</th>\n",
       "      <th>EDUCATION_TYPE</th>\n",
       "      <th>FAMILY_TYPE</th>\n",
       "      <th>HOUSE_TYPE</th>\n",
       "      <th>FLAG_MOBIL</th>\n",
       "      <th>WORK_PHONE</th>\n",
       "      <th>PHONE</th>\n",
       "      <th>E_MAIL</th>\n",
       "      <th>FAMILY SIZE</th>\n",
       "      <th>BEGIN_MONTH</th>\n",
       "      <th>AGE</th>\n",
       "      <th>YEARS_EMPLOYED</th>\n",
       "      <th>TARGET</th>\n",
       "    </tr>\n",
       "  </thead>\n",
       "  <tbody>\n",
       "    <tr>\n",
       "      <th>25132</th>\n",
       "      <td>25132</td>\n",
       "      <td>5150049</td>\n",
       "      <td>F</td>\n",
       "      <td>N</td>\n",
       "      <td>Y</td>\n",
       "      <td>0</td>\n",
       "      <td>283500.0</td>\n",
       "      <td>Working</td>\n",
       "      <td>Secondary / secondary special</td>\n",
       "      <td>Married</td>\n",
       "      <td>House / apartment</td>\n",
       "      <td>1</td>\n",
       "      <td>0</td>\n",
       "      <td>0</td>\n",
       "      <td>0</td>\n",
       "      <td>2.0</td>\n",
       "      <td>9</td>\n",
       "      <td>49</td>\n",
       "      <td>2</td>\n",
       "      <td>1</td>\n",
       "    </tr>\n",
       "    <tr>\n",
       "      <th>25133</th>\n",
       "      <td>25133</td>\n",
       "      <td>5150337</td>\n",
       "      <td>M</td>\n",
       "      <td>N</td>\n",
       "      <td>Y</td>\n",
       "      <td>0</td>\n",
       "      <td>112500.0</td>\n",
       "      <td>Working</td>\n",
       "      <td>Secondary / secondary special</td>\n",
       "      <td>Single / not married</td>\n",
       "      <td>Rented apartment</td>\n",
       "      <td>1</td>\n",
       "      <td>0</td>\n",
       "      <td>0</td>\n",
       "      <td>0</td>\n",
       "      <td>1.0</td>\n",
       "      <td>13</td>\n",
       "      <td>25</td>\n",
       "      <td>3</td>\n",
       "      <td>1</td>\n",
       "    </tr>\n",
       "  </tbody>\n",
       "</table>\n",
       "</div>"
      ],
      "text/plain": [
       "       Unnamed: 0       ID GENDER CAR REALITY  NO_OF_CHILD    INCOME  \\\n",
       "25132       25132  5150049      F   N       Y            0  283500.0   \n",
       "25133       25133  5150337      M   N       Y            0  112500.0   \n",
       "\n",
       "      INCOME_TYPE                 EDUCATION_TYPE           FAMILY_TYPE  \\\n",
       "25132     Working  Secondary / secondary special               Married   \n",
       "25133     Working  Secondary / secondary special  Single / not married   \n",
       "\n",
       "              HOUSE_TYPE  FLAG_MOBIL  WORK_PHONE  PHONE  E_MAIL  FAMILY SIZE  \\\n",
       "25132  House / apartment           1           0      0       0          2.0   \n",
       "25133   Rented apartment           1           0      0       0          1.0   \n",
       "\n",
       "       BEGIN_MONTH  AGE  YEARS_EMPLOYED  TARGET  \n",
       "25132            9   49               2       1  \n",
       "25133           13   25               3       1  "
      ]
     },
     "execution_count": 91,
     "metadata": {},
     "output_type": "execute_result"
    }
   ],
   "source": [
    "df.tail(2)\n"
   ]
  },
  {
   "cell_type": "markdown",
   "id": "7a8a9ecb",
   "metadata": {},
   "source": [
    "# QUESTION NUMBER 1"
   ]
  },
  {
   "cell_type": "code",
   "execution_count": 92,
   "id": "feb67d4d",
   "metadata": {},
   "outputs": [
    {
     "data": {
      "text/plain": [
       "Unnamed: 0        25134\n",
       "ID                25134\n",
       "GENDER                2\n",
       "CAR                   2\n",
       "REALITY               2\n",
       "NO_OF_CHILD           9\n",
       "INCOME              195\n",
       "INCOME_TYPE           5\n",
       "EDUCATION_TYPE        5\n",
       "FAMILY_TYPE           5\n",
       "HOUSE_TYPE            6\n",
       "FLAG_MOBIL            1\n",
       "WORK_PHONE            2\n",
       "PHONE                 2\n",
       "E_MAIL                2\n",
       "FAMILY SIZE          10\n",
       "BEGIN_MONTH          61\n",
       "AGE                  47\n",
       "YEARS_EMPLOYED       43\n",
       "TARGET                2\n",
       "dtype: int64"
      ]
     },
     "execution_count": 92,
     "metadata": {},
     "output_type": "execute_result"
    }
   ],
   "source": [
    "# OUTLIERS - CREATE OUTLIERS IF NOT AVAILABLE\n",
    "df.nunique()\n"
   ]
  },
  {
   "cell_type": "markdown",
   "id": "19b76edd",
   "metadata": {},
   "source": [
    "# QUESTION NUMBER 2 "
   ]
  },
  {
   "cell_type": "code",
   "execution_count": 93,
   "id": "23c5e78d",
   "metadata": {},
   "outputs": [
    {
     "name": "stderr",
     "output_type": "stream",
     "text": [
      "D:\\ANACONDA\\lib\\site-packages\\seaborn\\_decorators.py:36: FutureWarning: Pass the following variable as a keyword arg: x. From version 0.12, the only valid positional argument will be `data`, and passing other arguments without an explicit keyword will result in an error or misinterpretation.\n",
      "  warnings.warn(\n"
     ]
    },
    {
     "data": {
      "text/plain": [
       "<AxesSubplot:xlabel='AGE'>"
      ]
     },
     "execution_count": 93,
     "metadata": {},
     "output_type": "execute_result"
    },
    {
     "data": {
      "image/png": "[encoded data removed]",
      "text/plain": [
       "<Figure size 432x288 with 1 Axes>"
      ]
     },
     "metadata": {
      "needs_background": "light"
     },
     "output_type": "display_data"
    }
   ],
   "source": [
    "#show outliers using BOX PLOT\n",
    "sns.boxplot(df[\"AGE\"]) # Show outliers in BOX PLOT\n"
   ]
  },
  {
   "cell_type": "markdown",
   "id": "e8a72c17",
   "metadata": {},
   "source": [
    "# QUESTION NUMBER 3"
   ]
  },
  {
   "cell_type": "code",
   "execution_count": 94,
   "id": "106e8a11",
   "metadata": {},
   "outputs": [
    {
     "data": {
      "text/plain": [
       "[]"
      ]
     },
     "execution_count": 94,
     "metadata": {},
     "output_type": "execute_result"
    }
   ],
   "source": [
    "# REMOVE OUTLIERS\n",
    "outliers = [x for x in df[\"AGE\"] if x >100] # Show outliers Values\n",
    "outliers"
   ]
  },
  {
   "cell_type": "code",
   "execution_count": 95,
   "id": "c264cc41",
   "metadata": {},
   "outputs": [],
   "source": [
    "df.fillna(value=df.mean, inplace=True) # FILL NULL VALUES"
   ]
  },
  {
   "cell_type": "code",
   "execution_count": 96,
   "id": "e126b4bd",
   "metadata": {},
   "outputs": [],
   "source": [
    "df.dropna(inplace=True) # DROP NULL VALUES"
   ]
  },
  {
   "cell_type": "code",
   "execution_count": 97,
   "id": "488ad03a",
   "metadata": {},
   "outputs": [
    {
     "data": {
      "text/plain": [
       "41.0"
      ]
     },
     "execution_count": 97,
     "metadata": {},
     "output_type": "execute_result"
    }
   ],
   "source": [
    "AG=df['AGE'].mean() # GET MEAN OF COLUMN TO REPLACE OUTLIERS WITH MEAN\n",
    "mie=np.round(AG)\n",
    "mie"
   ]
  },
  {
   "cell_type": "code",
   "execution_count": 98,
   "id": "acfda31f",
   "metadata": {},
   "outputs": [],
   "source": [
    "#outliers = [x for x in df[\"AGE\"] if x >100]\n",
    "\n",
    "for i in range(len(outliers)): # REMOVE OUTLIERS\n",
    "    df.replace(outliers[i],mie,inplace=True)"
   ]
  },
  {
   "cell_type": "code",
   "execution_count": 99,
   "id": "e9b3c42e",
   "metadata": {},
   "outputs": [
    {
     "data": {
      "text/plain": [
       "[]"
      ]
     },
     "execution_count": 99,
     "metadata": {},
     "output_type": "execute_result"
    }
   ],
   "source": [
    "outliers"
   ]
  },
  {
   "cell_type": "code",
   "execution_count": 100,
   "id": "7e3b04eb",
   "metadata": {},
   "outputs": [
    {
     "data": {
      "text/plain": [
       "<AxesSubplot:>"
      ]
     },
     "execution_count": 100,
     "metadata": {},
     "output_type": "execute_result"
    },
    {
     "data": {
      "image/png": "[encoded data removed]",
      "text/plain": [
       "<Figure size 432x288 with 2 Axes>"
      ]
     },
     "metadata": {
      "needs_background": "light"
     },
     "output_type": "display_data"
    }
   ],
   "source": [
    "sns.heatmap(df.isnull()) # CHECK NULL VALUES CROSS V VERIFYING\n"
   ]
  },
  {
   "cell_type": "markdown",
   "id": "6422726b",
   "metadata": {},
   "source": [
    "# QUESTION NUMBER 4 & 5"
   ]
  },
  {
   "cell_type": "code",
   "execution_count": 101,
   "id": "9f6085ed",
   "metadata": {},
   "outputs": [],
   "source": [
    "# CREATE DUMMY VALUES FOR REQUIRED COLUMNS \n",
    "dummy_income_type = pd.get_dummies(df['INCOME_TYPE'], prefix='INC_TYPE', drop_first=True)\n",
    "dummy_edu_type = pd.get_dummies(df['EDUCATION_TYPE'], prefix='EDU_TYPE', drop_first=True)\n",
    "dummy_family_type = pd.get_dummies(df['FAMILY_TYPE'], prefix='FAM_TYPE', drop_first=True)\n",
    "dummy_house_type = pd.get_dummies(df['HOUSE_TYPE'], prefix='HOUSE_TYPE', drop_first=True)\n"
   ]
  },
  {
   "cell_type": "code",
   "execution_count": 102,
   "id": "9b181e21",
   "metadata": {},
   "outputs": [],
   "source": [
    "# DROP OTHERS FROM ORIGNAL DATASET SO WE CAN CONCATINATE\n",
    "to_drop = ['Unnamed: 0', 'ID', 'FLAG_MOBIL', 'EDUCATION_TYPE', 'FAMILY_TYPE', 'INCOME_TYPE', 'HOUSE_TYPE']\n",
    "df.drop(to_drop, axis=1, inplace=True)"
   ]
  },
  {
   "cell_type": "code",
   "execution_count": 103,
   "id": "ace774fb",
   "metadata": {},
   "outputs": [
    {
     "data": {
      "text/html": [
       "<div>\n",
       "<style scoped>\n",
       "    .dataframe tbody tr th:only-of-type {\n",
       "        vertical-align: middle;\n",
       "    }\n",
       "\n",
       "    .dataframe tbody tr th {\n",
       "        vertical-align: top;\n",
       "    }\n",
       "\n",
       "    .dataframe thead th {\n",
       "        text-align: right;\n",
       "    }\n",
       "</style>\n",
       "<table border=\"1\" class=\"dataframe\">\n",
       "  <thead>\n",
       "    <tr style=\"text-align: right;\">\n",
       "      <th></th>\n",
       "      <th>GENDER</th>\n",
       "      <th>CAR</th>\n",
       "      <th>REALITY</th>\n",
       "      <th>NO_OF_CHILD</th>\n",
       "      <th>INCOME</th>\n",
       "      <th>WORK_PHONE</th>\n",
       "      <th>PHONE</th>\n",
       "      <th>E_MAIL</th>\n",
       "      <th>FAMILY SIZE</th>\n",
       "      <th>BEGIN_MONTH</th>\n",
       "      <th>...</th>\n",
       "      <th>EDU_TYPE_Secondary / secondary special</th>\n",
       "      <th>FAM_TYPE_Married</th>\n",
       "      <th>FAM_TYPE_Separated</th>\n",
       "      <th>FAM_TYPE_Single / not married</th>\n",
       "      <th>FAM_TYPE_Widow</th>\n",
       "      <th>HOUSE_TYPE_House / apartment</th>\n",
       "      <th>HOUSE_TYPE_Municipal apartment</th>\n",
       "      <th>HOUSE_TYPE_Office apartment</th>\n",
       "      <th>HOUSE_TYPE_Rented apartment</th>\n",
       "      <th>HOUSE_TYPE_With parents</th>\n",
       "    </tr>\n",
       "  </thead>\n",
       "  <tbody>\n",
       "    <tr>\n",
       "      <th>0</th>\n",
       "      <td>1</td>\n",
       "      <td>1</td>\n",
       "      <td>1</td>\n",
       "      <td>0</td>\n",
       "      <td>112500.0</td>\n",
       "      <td>0</td>\n",
       "      <td>0</td>\n",
       "      <td>0</td>\n",
       "      <td>2.0</td>\n",
       "      <td>29</td>\n",
       "      <td>...</td>\n",
       "      <td>1</td>\n",
       "      <td>1</td>\n",
       "      <td>0</td>\n",
       "      <td>0</td>\n",
       "      <td>0</td>\n",
       "      <td>1</td>\n",
       "      <td>0</td>\n",
       "      <td>0</td>\n",
       "      <td>0</td>\n",
       "      <td>0</td>\n",
       "    </tr>\n",
       "    <tr>\n",
       "      <th>1</th>\n",
       "      <td>0</td>\n",
       "      <td>0</td>\n",
       "      <td>1</td>\n",
       "      <td>0</td>\n",
       "      <td>270000.0</td>\n",
       "      <td>0</td>\n",
       "      <td>1</td>\n",
       "      <td>1</td>\n",
       "      <td>1.0</td>\n",
       "      <td>4</td>\n",
       "      <td>...</td>\n",
       "      <td>1</td>\n",
       "      <td>0</td>\n",
       "      <td>0</td>\n",
       "      <td>1</td>\n",
       "      <td>0</td>\n",
       "      <td>1</td>\n",
       "      <td>0</td>\n",
       "      <td>0</td>\n",
       "      <td>0</td>\n",
       "      <td>0</td>\n",
       "    </tr>\n",
       "    <tr>\n",
       "      <th>2</th>\n",
       "      <td>0</td>\n",
       "      <td>0</td>\n",
       "      <td>1</td>\n",
       "      <td>0</td>\n",
       "      <td>270000.0</td>\n",
       "      <td>0</td>\n",
       "      <td>1</td>\n",
       "      <td>1</td>\n",
       "      <td>1.0</td>\n",
       "      <td>26</td>\n",
       "      <td>...</td>\n",
       "      <td>1</td>\n",
       "      <td>0</td>\n",
       "      <td>0</td>\n",
       "      <td>1</td>\n",
       "      <td>0</td>\n",
       "      <td>1</td>\n",
       "      <td>0</td>\n",
       "      <td>0</td>\n",
       "      <td>0</td>\n",
       "      <td>0</td>\n",
       "    </tr>\n",
       "    <tr>\n",
       "      <th>3</th>\n",
       "      <td>0</td>\n",
       "      <td>0</td>\n",
       "      <td>1</td>\n",
       "      <td>0</td>\n",
       "      <td>270000.0</td>\n",
       "      <td>0</td>\n",
       "      <td>1</td>\n",
       "      <td>1</td>\n",
       "      <td>1.0</td>\n",
       "      <td>26</td>\n",
       "      <td>...</td>\n",
       "      <td>1</td>\n",
       "      <td>0</td>\n",
       "      <td>0</td>\n",
       "      <td>1</td>\n",
       "      <td>0</td>\n",
       "      <td>1</td>\n",
       "      <td>0</td>\n",
       "      <td>0</td>\n",
       "      <td>0</td>\n",
       "      <td>0</td>\n",
       "    </tr>\n",
       "    <tr>\n",
       "      <th>4</th>\n",
       "      <td>0</td>\n",
       "      <td>0</td>\n",
       "      <td>1</td>\n",
       "      <td>0</td>\n",
       "      <td>270000.0</td>\n",
       "      <td>0</td>\n",
       "      <td>1</td>\n",
       "      <td>1</td>\n",
       "      <td>1.0</td>\n",
       "      <td>38</td>\n",
       "      <td>...</td>\n",
       "      <td>1</td>\n",
       "      <td>0</td>\n",
       "      <td>0</td>\n",
       "      <td>1</td>\n",
       "      <td>0</td>\n",
       "      <td>1</td>\n",
       "      <td>0</td>\n",
       "      <td>0</td>\n",
       "      <td>0</td>\n",
       "      <td>0</td>\n",
       "    </tr>\n",
       "    <tr>\n",
       "      <th>...</th>\n",
       "      <td>...</td>\n",
       "      <td>...</td>\n",
       "      <td>...</td>\n",
       "      <td>...</td>\n",
       "      <td>...</td>\n",
       "      <td>...</td>\n",
       "      <td>...</td>\n",
       "      <td>...</td>\n",
       "      <td>...</td>\n",
       "      <td>...</td>\n",
       "      <td>...</td>\n",
       "      <td>...</td>\n",
       "      <td>...</td>\n",
       "      <td>...</td>\n",
       "      <td>...</td>\n",
       "      <td>...</td>\n",
       "      <td>...</td>\n",
       "      <td>...</td>\n",
       "      <td>...</td>\n",
       "      <td>...</td>\n",
       "      <td>...</td>\n",
       "    </tr>\n",
       "    <tr>\n",
       "      <th>25129</th>\n",
       "      <td>1</td>\n",
       "      <td>1</td>\n",
       "      <td>1</td>\n",
       "      <td>0</td>\n",
       "      <td>315000.0</td>\n",
       "      <td>0</td>\n",
       "      <td>0</td>\n",
       "      <td>0</td>\n",
       "      <td>2.0</td>\n",
       "      <td>11</td>\n",
       "      <td>...</td>\n",
       "      <td>1</td>\n",
       "      <td>1</td>\n",
       "      <td>0</td>\n",
       "      <td>0</td>\n",
       "      <td>0</td>\n",
       "      <td>1</td>\n",
       "      <td>0</td>\n",
       "      <td>0</td>\n",
       "      <td>0</td>\n",
       "      <td>0</td>\n",
       "    </tr>\n",
       "    <tr>\n",
       "      <th>25130</th>\n",
       "      <td>0</td>\n",
       "      <td>0</td>\n",
       "      <td>1</td>\n",
       "      <td>0</td>\n",
       "      <td>157500.0</td>\n",
       "      <td>0</td>\n",
       "      <td>1</td>\n",
       "      <td>1</td>\n",
       "      <td>2.0</td>\n",
       "      <td>23</td>\n",
       "      <td>...</td>\n",
       "      <td>0</td>\n",
       "      <td>1</td>\n",
       "      <td>0</td>\n",
       "      <td>0</td>\n",
       "      <td>0</td>\n",
       "      <td>1</td>\n",
       "      <td>0</td>\n",
       "      <td>0</td>\n",
       "      <td>0</td>\n",
       "      <td>0</td>\n",
       "    </tr>\n",
       "    <tr>\n",
       "      <th>25131</th>\n",
       "      <td>0</td>\n",
       "      <td>0</td>\n",
       "      <td>1</td>\n",
       "      <td>0</td>\n",
       "      <td>157500.0</td>\n",
       "      <td>0</td>\n",
       "      <td>1</td>\n",
       "      <td>1</td>\n",
       "      <td>2.0</td>\n",
       "      <td>32</td>\n",
       "      <td>...</td>\n",
       "      <td>0</td>\n",
       "      <td>1</td>\n",
       "      <td>0</td>\n",
       "      <td>0</td>\n",
       "      <td>0</td>\n",
       "      <td>1</td>\n",
       "      <td>0</td>\n",
       "      <td>0</td>\n",
       "      <td>0</td>\n",
       "      <td>0</td>\n",
       "    </tr>\n",
       "    <tr>\n",
       "      <th>25132</th>\n",
       "      <td>0</td>\n",
       "      <td>0</td>\n",
       "      <td>1</td>\n",
       "      <td>0</td>\n",
       "      <td>283500.0</td>\n",
       "      <td>0</td>\n",
       "      <td>0</td>\n",
       "      <td>0</td>\n",
       "      <td>2.0</td>\n",
       "      <td>9</td>\n",
       "      <td>...</td>\n",
       "      <td>1</td>\n",
       "      <td>1</td>\n",
       "      <td>0</td>\n",
       "      <td>0</td>\n",
       "      <td>0</td>\n",
       "      <td>1</td>\n",
       "      <td>0</td>\n",
       "      <td>0</td>\n",
       "      <td>0</td>\n",
       "      <td>0</td>\n",
       "    </tr>\n",
       "    <tr>\n",
       "      <th>25133</th>\n",
       "      <td>1</td>\n",
       "      <td>0</td>\n",
       "      <td>1</td>\n",
       "      <td>0</td>\n",
       "      <td>112500.0</td>\n",
       "      <td>0</td>\n",
       "      <td>0</td>\n",
       "      <td>0</td>\n",
       "      <td>1.0</td>\n",
       "      <td>13</td>\n",
       "      <td>...</td>\n",
       "      <td>1</td>\n",
       "      <td>0</td>\n",
       "      <td>0</td>\n",
       "      <td>1</td>\n",
       "      <td>0</td>\n",
       "      <td>0</td>\n",
       "      <td>0</td>\n",
       "      <td>0</td>\n",
       "      <td>1</td>\n",
       "      <td>0</td>\n",
       "    </tr>\n",
       "  </tbody>\n",
       "</table>\n",
       "<p>25134 rows × 30 columns</p>\n",
       "</div>"
      ],
      "text/plain": [
       "       GENDER  CAR  REALITY  NO_OF_CHILD    INCOME  WORK_PHONE  PHONE  E_MAIL  \\\n",
       "0           1    1        1            0  112500.0           0      0       0   \n",
       "1           0    0        1            0  270000.0           0      1       1   \n",
       "2           0    0        1            0  270000.0           0      1       1   \n",
       "3           0    0        1            0  270000.0           0      1       1   \n",
       "4           0    0        1            0  270000.0           0      1       1   \n",
       "...       ...  ...      ...          ...       ...         ...    ...     ...   \n",
       "25129       1    1        1            0  315000.0           0      0       0   \n",
       "25130       0    0        1            0  157500.0           0      1       1   \n",
       "25131       0    0        1            0  157500.0           0      1       1   \n",
       "25132       0    0        1            0  283500.0           0      0       0   \n",
       "25133       1    0        1            0  112500.0           0      0       0   \n",
       "\n",
       "       FAMILY SIZE  BEGIN_MONTH  ...  EDU_TYPE_Secondary / secondary special  \\\n",
       "0              2.0           29  ...                                       1   \n",
       "1              1.0            4  ...                                       1   \n",
       "2              1.0           26  ...                                       1   \n",
       "3              1.0           26  ...                                       1   \n",
       "4              1.0           38  ...                                       1   \n",
       "...            ...          ...  ...                                     ...   \n",
       "25129          2.0           11  ...                                       1   \n",
       "25130          2.0           23  ...                                       0   \n",
       "25131          2.0           32  ...                                       0   \n",
       "25132          2.0            9  ...                                       1   \n",
       "25133          1.0           13  ...                                       1   \n",
       "\n",
       "       FAM_TYPE_Married  FAM_TYPE_Separated  FAM_TYPE_Single / not married  \\\n",
       "0                     1                   0                              0   \n",
       "1                     0                   0                              1   \n",
       "2                     0                   0                              1   \n",
       "3                     0                   0                              1   \n",
       "4                     0                   0                              1   \n",
       "...                 ...                 ...                            ...   \n",
       "25129                 1                   0                              0   \n",
       "25130                 1                   0                              0   \n",
       "25131                 1                   0                              0   \n",
       "25132                 1                   0                              0   \n",
       "25133                 0                   0                              1   \n",
       "\n",
       "       FAM_TYPE_Widow  HOUSE_TYPE_House / apartment  \\\n",
       "0                   0                             1   \n",
       "1                   0                             1   \n",
       "2                   0                             1   \n",
       "3                   0                             1   \n",
       "4                   0                             1   \n",
       "...               ...                           ...   \n",
       "25129               0                             1   \n",
       "25130               0                             1   \n",
       "25131               0                             1   \n",
       "25132               0                             1   \n",
       "25133               0                             0   \n",
       "\n",
       "       HOUSE_TYPE_Municipal apartment  HOUSE_TYPE_Office apartment  \\\n",
       "0                                   0                            0   \n",
       "1                                   0                            0   \n",
       "2                                   0                            0   \n",
       "3                                   0                            0   \n",
       "4                                   0                            0   \n",
       "...                               ...                          ...   \n",
       "25129                               0                            0   \n",
       "25130                               0                            0   \n",
       "25131                               0                            0   \n",
       "25132                               0                            0   \n",
       "25133                               0                            0   \n",
       "\n",
       "       HOUSE_TYPE_Rented apartment  HOUSE_TYPE_With parents  \n",
       "0                                0                        0  \n",
       "1                                0                        0  \n",
       "2                                0                        0  \n",
       "3                                0                        0  \n",
       "4                                0                        0  \n",
       "...                            ...                      ...  \n",
       "25129                            0                        0  \n",
       "25130                            0                        0  \n",
       "25131                            0                        0  \n",
       "25132                            0                        0  \n",
       "25133                            1                        0  \n",
       "\n",
       "[25134 rows x 30 columns]"
      ]
     },
     "execution_count": 103,
     "metadata": {},
     "output_type": "execute_result"
    }
   ],
   "source": [
    "# MERGE COLUMNS\n",
    "df1 = pd.concat([df, dummy_income_type, dummy_edu_type, dummy_family_type, dummy_house_type], axis=1)\n",
    "df1.head()\n",
    "\n",
    "# REPLACE MALE, FEMALE, YES, NO AND ALL BINARY VALUES INTO 0 AND 1\n",
    "df1.replace(\"M\",1,inplace=True)\n",
    "df1.replace(\"F\",0,inplace=True)\n",
    "\n",
    "df1.replace(\"Y\",1,inplace=True)\n",
    "df1.replace(\"N\",0,inplace=True)\n",
    "\n",
    "df1"
   ]
  },
  {
   "cell_type": "code",
   "execution_count": 104,
   "id": "708b658c",
   "metadata": {},
   "outputs": [],
   "source": [
    "# split data\n",
    "# SPLITTING CLASSES AND FEATURE\n",
    "X = df1.drop('TARGET', axis=1)\n",
    "y = df1['TARGET']"
   ]
  },
  {
   "cell_type": "code",
   "execution_count": 105,
   "id": "49aa08f4",
   "metadata": {},
   "outputs": [
    {
     "name": "stdout",
     "output_type": "stream",
     "text": [
      "Shape of X before SMOTE: (25134, 29)\n",
      "Shape of X after SMOTE: (49424, 29)\n",
      "\n",
      "Balance of positive and negative classes (%):\n"
     ]
    },
    {
     "data": {
      "text/plain": [
       "0    50.0\n",
       "1    50.0\n",
       "Name: TARGET, dtype: float64"
      ]
     },
     "execution_count": 105,
     "metadata": {},
     "output_type": "execute_result"
    }
   ],
   "source": [
    "# USING SMOTE TECHNIQUE TO FIX IMBALANCE \n",
    "from imblearn.over_sampling import SMOTE \n",
    "\n",
    "sm = SMOTE(random_state=78)\n",
    "\n",
    "X_sm, y_sm = sm.fit_resample(X, y)\n",
    "\n",
    "print(f'''Shape of X before SMOTE: {X.shape}\n",
    "Shape of X after SMOTE: {X_sm.shape}''')\n",
    "\n",
    "print('\\nBalance of positive and negative classes (%):')\n",
    "y_sm.value_counts(normalize=True) * 100"
   ]
  },
  {
   "cell_type": "markdown",
   "id": "b302acb2",
   "metadata": {},
   "source": [
    "# QUESTION NUMBER 6"
   ]
  },
  {
   "cell_type": "code",
   "execution_count": 106,
   "id": "8235767c",
   "metadata": {},
   "outputs": [
    {
     "data": {
      "text/html": [
       "<div>\n",
       "<style scoped>\n",
       "    .dataframe tbody tr th:only-of-type {\n",
       "        vertical-align: middle;\n",
       "    }\n",
       "\n",
       "    .dataframe tbody tr th {\n",
       "        vertical-align: top;\n",
       "    }\n",
       "\n",
       "    .dataframe thead th {\n",
       "        text-align: right;\n",
       "    }\n",
       "</style>\n",
       "<table border=\"1\" class=\"dataframe\">\n",
       "  <thead>\n",
       "    <tr style=\"text-align: right;\">\n",
       "      <th></th>\n",
       "      <th>NO_OF_CHILD</th>\n",
       "      <th>INCOME</th>\n",
       "      <th>WORK_PHONE</th>\n",
       "      <th>PHONE</th>\n",
       "      <th>E_MAIL</th>\n",
       "      <th>FAMILY SIZE</th>\n",
       "      <th>BEGIN_MONTH</th>\n",
       "      <th>AGE</th>\n",
       "      <th>YEARS_EMPLOYED</th>\n",
       "      <th>TARGET</th>\n",
       "    </tr>\n",
       "  </thead>\n",
       "  <tbody>\n",
       "    <tr>\n",
       "      <th>NO_OF_CHILD</th>\n",
       "      <td>1.000000</td>\n",
       "      <td>-0.015081</td>\n",
       "      <td>-0.009954</td>\n",
       "      <td>-0.019342</td>\n",
       "      <td>-0.015478</td>\n",
       "      <td>0.902228</td>\n",
       "      <td>0.001626</td>\n",
       "      <td>-0.255850</td>\n",
       "      <td>-0.065113</td>\n",
       "      <td>-0.000867</td>\n",
       "    </tr>\n",
       "    <tr>\n",
       "      <th>INCOME</th>\n",
       "      <td>-0.015081</td>\n",
       "      <td>1.000000</td>\n",
       "      <td>-0.090386</td>\n",
       "      <td>0.010771</td>\n",
       "      <td>0.076037</td>\n",
       "      <td>-0.025811</td>\n",
       "      <td>0.020711</td>\n",
       "      <td>0.058034</td>\n",
       "      <td>0.020723</td>\n",
       "      <td>0.006530</td>\n",
       "    </tr>\n",
       "    <tr>\n",
       "      <th>WORK_PHONE</th>\n",
       "      <td>-0.009954</td>\n",
       "      <td>-0.090386</td>\n",
       "      <td>1.000000</td>\n",
       "      <td>0.369615</td>\n",
       "      <td>-0.067241</td>\n",
       "      <td>0.008216</td>\n",
       "      <td>0.011387</td>\n",
       "      <td>-0.038697</td>\n",
       "      <td>0.008254</td>\n",
       "      <td>0.005869</td>\n",
       "    </tr>\n",
       "    <tr>\n",
       "      <th>PHONE</th>\n",
       "      <td>-0.019342</td>\n",
       "      <td>0.010771</td>\n",
       "      <td>0.369615</td>\n",
       "      <td>1.000000</td>\n",
       "      <td>0.009078</td>\n",
       "      <td>-0.007568</td>\n",
       "      <td>0.017650</td>\n",
       "      <td>0.026245</td>\n",
       "      <td>0.041822</td>\n",
       "      <td>0.003023</td>\n",
       "    </tr>\n",
       "    <tr>\n",
       "      <th>E_MAIL</th>\n",
       "      <td>-0.015478</td>\n",
       "      <td>0.076037</td>\n",
       "      <td>-0.067241</td>\n",
       "      <td>0.009078</td>\n",
       "      <td>1.000000</td>\n",
       "      <td>-0.009906</td>\n",
       "      <td>-0.007224</td>\n",
       "      <td>-0.061468</td>\n",
       "      <td>-0.039756</td>\n",
       "      <td>0.000537</td>\n",
       "    </tr>\n",
       "    <tr>\n",
       "      <th>FAMILY SIZE</th>\n",
       "      <td>0.902228</td>\n",
       "      <td>-0.025811</td>\n",
       "      <td>0.008216</td>\n",
       "      <td>-0.007568</td>\n",
       "      <td>-0.009906</td>\n",
       "      <td>1.000000</td>\n",
       "      <td>0.021076</td>\n",
       "      <td>-0.212130</td>\n",
       "      <td>-0.048740</td>\n",
       "      <td>-0.005587</td>\n",
       "    </tr>\n",
       "    <tr>\n",
       "      <th>BEGIN_MONTH</th>\n",
       "      <td>0.001626</td>\n",
       "      <td>0.020711</td>\n",
       "      <td>0.011387</td>\n",
       "      <td>0.017650</td>\n",
       "      <td>-0.007224</td>\n",
       "      <td>0.021076</td>\n",
       "      <td>1.000000</td>\n",
       "      <td>0.088954</td>\n",
       "      <td>0.091180</td>\n",
       "      <td>0.060713</td>\n",
       "    </tr>\n",
       "    <tr>\n",
       "      <th>AGE</th>\n",
       "      <td>-0.255850</td>\n",
       "      <td>0.058034</td>\n",
       "      <td>-0.038697</td>\n",
       "      <td>0.026245</td>\n",
       "      <td>-0.061468</td>\n",
       "      <td>-0.212130</td>\n",
       "      <td>0.088954</td>\n",
       "      <td>1.000000</td>\n",
       "      <td>0.342355</td>\n",
       "      <td>-0.007880</td>\n",
       "    </tr>\n",
       "    <tr>\n",
       "      <th>YEARS_EMPLOYED</th>\n",
       "      <td>-0.065113</td>\n",
       "      <td>0.020723</td>\n",
       "      <td>0.008254</td>\n",
       "      <td>0.041822</td>\n",
       "      <td>-0.039756</td>\n",
       "      <td>-0.048740</td>\n",
       "      <td>0.091180</td>\n",
       "      <td>0.342355</td>\n",
       "      <td>1.000000</td>\n",
       "      <td>-0.033367</td>\n",
       "    </tr>\n",
       "    <tr>\n",
       "      <th>TARGET</th>\n",
       "      <td>-0.000867</td>\n",
       "      <td>0.006530</td>\n",
       "      <td>0.005869</td>\n",
       "      <td>0.003023</td>\n",
       "      <td>0.000537</td>\n",
       "      <td>-0.005587</td>\n",
       "      <td>0.060713</td>\n",
       "      <td>-0.007880</td>\n",
       "      <td>-0.033367</td>\n",
       "      <td>1.000000</td>\n",
       "    </tr>\n",
       "  </tbody>\n",
       "</table>\n",
       "</div>"
      ],
      "text/plain": [
       "                NO_OF_CHILD    INCOME  WORK_PHONE     PHONE    E_MAIL  \\\n",
       "NO_OF_CHILD        1.000000 -0.015081   -0.009954 -0.019342 -0.015478   \n",
       "INCOME            -0.015081  1.000000   -0.090386  0.010771  0.076037   \n",
       "WORK_PHONE        -0.009954 -0.090386    1.000000  0.369615 -0.067241   \n",
       "PHONE             -0.019342  0.010771    0.369615  1.000000  0.009078   \n",
       "E_MAIL            -0.015478  0.076037   -0.067241  0.009078  1.000000   \n",
       "FAMILY SIZE        0.902228 -0.025811    0.008216 -0.007568 -0.009906   \n",
       "BEGIN_MONTH        0.001626  0.020711    0.011387  0.017650 -0.007224   \n",
       "AGE               -0.255850  0.058034   -0.038697  0.026245 -0.061468   \n",
       "YEARS_EMPLOYED    -0.065113  0.020723    0.008254  0.041822 -0.039756   \n",
       "TARGET            -0.000867  0.006530    0.005869  0.003023  0.000537   \n",
       "\n",
       "                FAMILY SIZE  BEGIN_MONTH       AGE  YEARS_EMPLOYED    TARGET  \n",
       "NO_OF_CHILD        0.902228     0.001626 -0.255850       -0.065113 -0.000867  \n",
       "INCOME            -0.025811     0.020711  0.058034        0.020723  0.006530  \n",
       "WORK_PHONE         0.008216     0.011387 -0.038697        0.008254  0.005869  \n",
       "PHONE             -0.007568     0.017650  0.026245        0.041822  0.003023  \n",
       "E_MAIL            -0.009906    -0.007224 -0.061468       -0.039756  0.000537  \n",
       "FAMILY SIZE        1.000000     0.021076 -0.212130       -0.048740 -0.005587  \n",
       "BEGIN_MONTH        0.021076     1.000000  0.088954        0.091180  0.060713  \n",
       "AGE               -0.212130     0.088954  1.000000        0.342355 -0.007880  \n",
       "YEARS_EMPLOYED    -0.048740     0.091180  0.342355        1.000000 -0.033367  \n",
       "TARGET            -0.005587     0.060713 -0.007880       -0.033367  1.000000  "
      ]
     },
     "execution_count": 106,
     "metadata": {},
     "output_type": "execute_result"
    }
   ],
   "source": [
    "# find relations between columns\n",
    "df.corr()"
   ]
  },
  {
   "cell_type": "markdown",
   "id": "19699d5b",
   "metadata": {},
   "source": [
    "# QUESTION NUMBER 7"
   ]
  },
  {
   "cell_type": "code",
   "execution_count": 107,
   "id": "3224728b",
   "metadata": {},
   "outputs": [
    {
     "data": {
      "text/plain": [
       "<AxesSubplot:>"
      ]
     },
     "execution_count": 107,
     "metadata": {},
     "output_type": "execute_result"
    },
    {
     "data": {
      "image/png": "[encoded data removed]",
      "text/plain": [
       "<Figure size 432x288 with 2 Axes>"
      ]
     },
     "metadata": {
      "needs_background": "light"
     },
     "output_type": "display_data"
    }
   ],
   "source": [
    "# plot relations between columns\n",
    "sns.heatmap(df.corr())"
   ]
  },
  {
   "cell_type": "markdown",
   "id": "903dc94e",
   "metadata": {},
   "source": [
    "# QUESTION NUMBER 8"
   ]
  },
  {
   "cell_type": "code",
   "execution_count": 108,
   "id": "08be0b4f",
   "metadata": {},
   "outputs": [
    {
     "data": {
      "text/plain": [
       "(array([6.70241126e+00, 1.09654273e-03, 4.10040406e+00, 2.28700258e-02,\n",
       "        6.00792948e+04, 6.28670500e-01, 1.62446150e-01, 6.50630357e-03,\n",
       "        3.07022697e-01, 9.58535806e+02, 3.51841894e+00, 1.59802691e+02,\n",
       "        7.61270142e+02, 3.53019730e+00, 1.70767239e-01, 6.48749385e-03,\n",
       "        5.78611184e-01, 1.14243813e+00, 2.65017782e+00, 8.33374936e-01,\n",
       "        9.97063651e-01, 3.83009857e+00, 1.11296306e+01, 2.89163200e+00,\n",
       "        1.37877965e-01, 2.14848150e+00, 8.37591064e-01, 2.59295173e-01,\n",
       "        4.15425747e-02]),\n",
       " array([9.62826158e-003, 9.73583609e-001, 4.28729663e-002, 8.79795556e-001,\n",
       "        0.00000000e+000, 4.27843403e-001, 6.86914319e-001, 9.35711027e-001,\n",
       "        5.79512950e-001, 1.85045423e-210, 6.06903169e-002, 1.24956266e-036,\n",
       "        1.42197200e-167, 6.02606171e-002, 6.79430837e-001, 9.35803823e-001,\n",
       "        4.46857208e-001, 2.85137727e-001, 1.03538314e-001, 3.61298443e-001,\n",
       "        3.18022063e-001, 5.03399722e-002, 8.49595116e-004, 8.90406882e-002,\n",
       "        7.10399783e-001, 1.42710975e-001, 3.60086638e-001, 6.10604794e-001,\n",
       "        8.38494197e-001]))"
      ]
     },
     "execution_count": 108,
     "metadata": {},
     "output_type": "execute_result"
    }
   ],
   "source": [
    "# FEATURE SELECCTION USING CHI2\n",
    "from sklearn.feature_selection import chi2\n",
    "chi_scores = chi2(X,y)\n",
    "chi_scores"
   ]
  },
  {
   "cell_type": "code",
   "execution_count": null,
   "id": "3aa0ec87",
   "metadata": {},
   "outputs": [],
   "source": []
  },
  {
   "cell_type": "code",
   "execution_count": null,
   "id": "e3bcb3c2",
   "metadata": {},
   "outputs": [],
   "source": []
  },
  {
   "cell_type": "code",
   "execution_count": null,
   "id": "0b20c34e",
   "metadata": {},
   "outputs": [],
   "source": []
  }
 ],
 "metadata": {
  "kernelspec": {
   "display_name": "Python [conda env:root] *",
   "language": "python",
   "name": "conda-root-py"
  },
  "language_info": {
   "codemirror_mode": {
    "name": "ipython",
    "version": 3
   },
   "file_extension": ".py",
   "mimetype": "text/x-python",
   "name": "python",
   "nbconvert_exporter": "python",
   "pygments_lexer": "ipython3",
   "version": "3.9.7"
  }
 },
 "nbformat": 4,
 "nbformat_minor": 5
}
